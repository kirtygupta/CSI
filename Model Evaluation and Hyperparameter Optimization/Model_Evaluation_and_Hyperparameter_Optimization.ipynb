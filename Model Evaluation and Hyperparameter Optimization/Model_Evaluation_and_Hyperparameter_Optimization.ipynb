{
  "cells": [
    {
      "cell_type": "markdown",
      "source": [
        "# Model Evaluation and Hyperparameter Tuning"
      ],
      "metadata": {
        "id": "l1JMoAs5OcC1"
      }
    },
    {
      "cell_type": "markdown",
      "source": [
        "1. Setup and Data Preparation"
      ],
      "metadata": {
        "id": "FR9lNLRfOjGU"
      }
    },
    {
      "cell_type": "code",
      "source": [
        "# Import necessary libraries\n",
        "import numpy as np\n",
        "import pandas as pd\n",
        "from sklearn import datasets\n",
        "from sklearn.model_selection import train_test_split, GridSearchCV, RandomizedSearchCV, cross_val_score\n",
        "from sklearn.metrics import accuracy_score, precision_score, recall_score, f1_score, classification_report, confusion_matrix\n",
        "from sklearn.preprocessing import StandardScaler\n",
        "\n",
        "# Import multiple classifiers\n",
        "from sklearn.linear_model import LogisticRegression\n",
        "from sklearn.svm import SVC\n",
        "from sklearn.ensemble import RandomForestClassifier\n",
        "from sklearn.neighbors import KNeighborsClassifier\n",
        "from sklearn.tree import DecisionTreeClassifier\n",
        "from xgboost import XGBClassifier\n",
        "\n",
        "# Load dataset (using wine dataset as example)\n",
        "wine = datasets.load_wine()\n",
        "X = wine.data\n",
        "y = wine.target\n",
        "\n",
        "# Split data into train and test sets\n",
        "X_train, X_test, y_train, y_test = train_test_split(X, y, test_size=0.2, random_state=42)\n",
        "\n",
        "# Scale features\n",
        "scaler = StandardScaler()\n",
        "X_train = scaler.fit_transform(X_train)\n",
        "X_test = scaler.transform(X_test)"
      ],
      "metadata": {
        "id": "p5gQE37QOhQR"
      },
      "execution_count": 1,
      "outputs": []
    },
    {
      "cell_type": "markdown",
      "source": [
        "2. Baseline Model Evaluation"
      ],
      "metadata": {
        "id": "nT8N-OKROzkB"
      }
    },
    {
      "cell_type": "code",
      "source": [
        "def evaluate_model(model, X_train, y_train, X_test, y_test):\n",
        "    \"\"\"\n",
        "    Evaluate a model and return performance metrics\n",
        "    \"\"\"\n",
        "    # Train model\n",
        "    model.fit(X_train, y_train)\n",
        "\n",
        "    # Make predictions\n",
        "    y_pred = model.predict(X_test)\n",
        "\n",
        "    # Calculate metrics\n",
        "    accuracy = accuracy_score(y_test, y_pred)\n",
        "    precision = precision_score(y_test, y_pred, average='weighted')\n",
        "    recall = recall_score(y_test, y_pred, average='weighted')\n",
        "    f1 = f1_score(y_test, y_pred, average='weighted')\n",
        "\n",
        "    # Cross-validation score\n",
        "    cv_scores = cross_val_score(model, X_train, y_train, cv=5)\n",
        "\n",
        "    return {\n",
        "        'model': str(model),\n",
        "        'accuracy': accuracy,\n",
        "        'precision': precision,\n",
        "        'recall': recall,\n",
        "        'f1_score': f1,\n",
        "        'cv_mean': np.mean(cv_scores),\n",
        "        'cv_std': np.std(cv_scores)\n",
        "    }\n",
        "\n",
        "# Initialize models\n",
        "models = [\n",
        "    LogisticRegression(max_iter=10000, random_state=42),\n",
        "    SVC(random_state=42),\n",
        "    RandomForestClassifier(random_state=42),\n",
        "    KNeighborsClassifier(),\n",
        "    DecisionTreeClassifier(random_state=42),\n",
        "    XGBClassifier(random_state=42)\n",
        "]\n",
        "\n",
        "# Evaluate all models\n",
        "results = []\n",
        "for model in models:\n",
        "    result = evaluate_model(model, X_train, y_train, X_test, y_test)\n",
        "    results.append(result)\n",
        "\n",
        "# Convert results to DataFrame\n",
        "results_df = pd.DataFrame(results)\n",
        "print(results_df.sort_values(by='f1_score', ascending=False))"
      ],
      "metadata": {
        "colab": {
          "base_uri": "https://localhost:8080/"
        },
        "id": "clHv4tujOl3p",
        "outputId": "6bb9933b-bfb9-4a01-bd21-c0f528fb7693"
      },
      "execution_count": 2,
      "outputs": [
        {
          "output_type": "stream",
          "name": "stdout",
          "text": [
            "                                               model  accuracy  precision  \\\n",
            "0  LogisticRegression(max_iter=10000, random_stat...  1.000000   1.000000   \n",
            "1                               SVC(random_state=42)  1.000000   1.000000   \n",
            "2            RandomForestClassifier(random_state=42)  1.000000   1.000000   \n",
            "5  XGBClassifier(base_score=None, booster=None, c...  0.944444   0.951389   \n",
            "4            DecisionTreeClassifier(random_state=42)  0.944444   0.946296   \n",
            "3                             KNeighborsClassifier()  0.944444   0.949383   \n",
            "\n",
            "     recall  f1_score   cv_mean    cv_std  \n",
            "0  1.000000  1.000000  0.979064  0.017100  \n",
            "1  1.000000  1.000000  0.971921  0.014050  \n",
            "2  1.000000  1.000000  0.978571  0.028571  \n",
            "5  0.944444  0.944856  0.943350  0.028341  \n",
            "4  0.944444  0.943997  0.915271  0.018323  \n",
            "3  0.944444  0.943604  0.950985  0.035372  \n"
          ]
        }
      ]
    },
    {
      "cell_type": "markdown",
      "source": [
        "3. Hyperparameter Tuning with GridSearchCV"
      ],
      "metadata": {
        "id": "MFlv-HFQO34W"
      }
    },
    {
      "cell_type": "code",
      "source": [
        "# Example for SVM\n",
        "svm_param_grid = {\n",
        "    'C': [0.1, 1, 10, 100],\n",
        "    'kernel': ['linear', 'rbf', 'poly'],\n",
        "    'gamma': ['scale', 'auto', 0.1, 1, 10]\n",
        "}\n",
        "\n",
        "svm_grid = GridSearchCV(\n",
        "    estimator=SVC(random_state=42),\n",
        "    param_grid=svm_param_grid,\n",
        "    cv=5,\n",
        "    scoring='f1_weighted',\n",
        "    n_jobs=-1,\n",
        "    verbose=1\n",
        ")\n",
        "\n",
        "svm_grid.fit(X_train, y_train)\n",
        "\n",
        "# Get best model and parameters\n",
        "best_svm = svm_grid.best_estimator_\n",
        "best_svm_params = svm_grid.best_params_\n",
        "\n",
        "# Evaluate best model\n",
        "svm_result = evaluate_model(best_svm, X_train, y_train, X_test, y_test)\n",
        "print(\"Best SVM Performance:\")\n",
        "print(svm_result)\n",
        "print(\"Best Parameters:\")\n",
        "print(best_svm_params)"
      ],
      "metadata": {
        "colab": {
          "base_uri": "https://localhost:8080/"
        },
        "id": "El5trQqVO1Ks",
        "outputId": "f6ecc1b0-d95e-4df6-f8dd-4cfbf6ae9d1a"
      },
      "execution_count": 3,
      "outputs": [
        {
          "output_type": "stream",
          "name": "stdout",
          "text": [
            "Fitting 5 folds for each of 60 candidates, totalling 300 fits\n",
            "Best SVM Performance:\n",
            "{'model': \"SVC(C=0.1, kernel='linear', random_state=42)\", 'accuracy': 0.9722222222222222, 'precision': 0.9753086419753088, 'recall': 0.9722222222222222, 'f1_score': 0.9725248123940935, 'cv_mean': np.float64(0.97192118226601), 'cv_std': np.float64(0.014050207583203595)}\n",
            "Best Parameters:\n",
            "{'C': 0.1, 'gamma': 'scale', 'kernel': 'linear'}\n"
          ]
        }
      ]
    },
    {
      "cell_type": "markdown",
      "source": [
        "4. Hyperparameter Tuning with RandomizedSearchCV"
      ],
      "metadata": {
        "id": "VCxfXkpYO8bf"
      }
    },
    {
      "cell_type": "code",
      "source": [
        "from scipy.stats import uniform, randint\n",
        "\n",
        "# Example for Random Forest\n",
        "rf_param_dist = {\n",
        "    'n_estimators': randint(50, 500),\n",
        "    'max_depth': [None, 5, 10, 20, 30],\n",
        "    'min_samples_split': randint(2, 20),\n",
        "    'min_samples_leaf': randint(1, 10),\n",
        "    'max_features': ['sqrt', 'log2', None]\n",
        "}\n",
        "\n",
        "rf_random = RandomizedSearchCV(\n",
        "    estimator=RandomForestClassifier(random_state=42),\n",
        "    param_distributions=rf_param_dist,\n",
        "    n_iter=50,  # Number of parameter settings to sample\n",
        "    cv=5,\n",
        "    scoring='f1_weighted',\n",
        "    n_jobs=-1,\n",
        "    random_state=42,\n",
        "    verbose=1\n",
        ")\n",
        "\n",
        "rf_random.fit(X_train, y_train)\n",
        "\n",
        "# Get best model and parameters\n",
        "best_rf = rf_random.best_estimator_\n",
        "best_rf_params = rf_random.best_params_\n",
        "\n",
        "# Evaluate best model\n",
        "rf_result = evaluate_model(best_rf, X_train, y_train, X_test, y_test)\n",
        "print(\"Best Random Forest Performance:\")\n",
        "print(rf_result)\n",
        "print(\"Best Parameters:\")\n",
        "print(best_rf_params)"
      ],
      "metadata": {
        "colab": {
          "base_uri": "https://localhost:8080/"
        },
        "id": "wukGgG2FO6ES",
        "outputId": "fcce1db9-dbec-41cd-90f2-e74f16a8ddd2"
      },
      "execution_count": 4,
      "outputs": [
        {
          "output_type": "stream",
          "name": "stdout",
          "text": [
            "Fitting 5 folds for each of 50 candidates, totalling 250 fits\n",
            "Best Random Forest Performance:\n",
            "{'model': 'RandomForestClassifier(min_samples_leaf=3, min_samples_split=3,\\n                       n_estimators=102, random_state=42)', 'accuracy': 1.0, 'precision': 1.0, 'recall': 1.0, 'f1_score': 1.0, 'cv_mean': np.float64(0.9785714285714286), 'cv_std': np.float64(0.028571428571428557)}\n",
            "Best Parameters:\n",
            "{'max_depth': None, 'max_features': 'sqrt', 'min_samples_leaf': 3, 'min_samples_split': 3, 'n_estimators': 102}\n"
          ]
        }
      ]
    },
    {
      "cell_type": "markdown",
      "source": [
        "5. Comparing All Tuned Models"
      ],
      "metadata": {
        "id": "jcKp8UQpPBF7"
      }
    },
    {
      "cell_type": "code",
      "source": [
        "# Create list of tuned models\n",
        "tuned_models = [\n",
        "    best_svm,\n",
        "    best_rf,\n",
        "    # Add other tuned models here\n",
        "]\n",
        "\n",
        "# Evaluate all tuned models\n",
        "tuned_results = []\n",
        "for model in tuned_models:\n",
        "    result = evaluate_model(model, X_train, y_train, X_test, y_test)\n",
        "    tuned_results.append(result)\n",
        "\n",
        "# Convert results to DataFrame\n",
        "tuned_results_df = pd.DataFrame(tuned_results)\n",
        "print(tuned_results_df.sort_values(by='f1_score', ascending=False))\n",
        "\n",
        "# Visual comparison\n",
        "import matplotlib.pyplot as plt\n",
        "\n",
        "plt.figure(figsize=(10, 6))\n",
        "plt.barh(tuned_results_df['model'].str[:30], tuned_results_df['f1_score'])\n",
        "plt.xlabel('F1 Score')\n",
        "plt.title('Model Comparison (After Tuning)')\n",
        "plt.show()"
      ],
      "metadata": {
        "colab": {
          "base_uri": "https://localhost:8080/",
          "height": 692
        },
        "id": "-fklIX7MO-KF",
        "outputId": "ccc3c38b-1b9e-47d3-ac65-7802df4da956"
      },
      "execution_count": 5,
      "outputs": [
        {
          "output_type": "stream",
          "name": "stdout",
          "text": [
            "                                               model  accuracy  precision  \\\n",
            "1  RandomForestClassifier(min_samples_leaf=3, min...  1.000000   1.000000   \n",
            "0       SVC(C=0.1, kernel='linear', random_state=42)  0.972222   0.975309   \n",
            "\n",
            "     recall  f1_score   cv_mean    cv_std  \n",
            "1  1.000000  1.000000  0.978571  0.028571  \n",
            "0  0.972222  0.972525  0.971921  0.014050  \n"
          ]
        },
        {
          "output_type": "display_data",
          "data": {
            "text/plain": [
              "<Figure size 1000x600 with 1 Axes>"
            ],
            "image/png": "[encoded data removed]"
          },
          "metadata": {}
        }
      ]
    }
  ],
  "metadata": {
    "colab": {
      "provenance": []
    },
    "kernelspec": {
      "display_name": "Python 3",
      "name": "python3"
    },
    "language_info": {
      "name": "python"
    }
  },
  "nbformat": 4,
  "nbformat_minor": 0
}